{
 "cells": [
  {
   "cell_type": "code",
   "execution_count": 66,
   "metadata": {
    "collapsed": true
   },
   "outputs": [],
   "source": [
    "import requests\n",
    "from requests import Response\n",
    "from pprint import pprint as print\n",
    "\n",
    "url = \"http://localhost:3001\"\n",
    "base = f\"{url}/api/v1\"\n",
    "\n",
    "def create_room(name=\"fs-info\") -> dict:\n",
    "    return requests.get(f\"{base}/new_room/{name}\").json()\n",
    "\n",
    "\n",
    "def user_sign_in(room_uuid: str, user_name=\"wusel\") -> Response:\n",
    "    req = f\"{base}/join/{room_uuid}/{user_name}\"\n",
    "    print(req)\n",
    "    user_sign_in_response = requests.get(req)\n",
    "    return user_sign_in_response\n",
    "\n",
    "\n",
    "def request_queue_song(room_uuid: str, song_id: int, user_cookie: str) -> Response:\n",
    "    return requests.get(f\"{base}/user/{room_uuid}/queue_song/{song_id}\", cookies={\"player_id\": user_cookie})\n",
    "\n",
    "\n",
    "# TODO\n",
    "# def request_get_queue(room_name: str) -> Response:\n",
    "#     return requests.get(f\"{base}/room/{room_name}/queue\")\n",
    "\n",
    "\n",
    "def request_next_song(admin_route: str, room_name: str) -> Response:\n",
    "    return requests.get(f\"{url}{admin_route}/next\")\n",
    "\n",
    "\n",
    "def search_song(query: str) -> Response:\n",
    "    return requests.get(f\"{base}/user/search_song/{query}\")"
   ]
  },
  {
   "cell_type": "code",
   "execution_count": 57,
   "outputs": [
    {
     "name": "stdout",
     "output_type": "stream",
     "text": [
      "{'links': {'admin_panel': '/api/v1/manage/fs-info/51154050f3f54889b6238ff66b611403',\n",
      "           'next_song': '/api/v1/manage/fs-info/51154050f3f54889b6238ff66b611403/next',\n",
      "           'queue_song': '/api/v1/user/fs-info/queue_song'},\n",
      " 'room': {'history': [],\n",
      "          'name': 'fs-info',\n",
      "          'queue': [],\n",
      "          'uuid': '51154050f3f54889b6238ff66b611403'}}\n"
     ]
    }
   ],
   "source": [
    "\n",
    "room_body = create_room()\n",
    "print(room_body)\n",
    "room_name = room_body[\"room\"][\"name\"]\n",
    "room_name = \"fs-info\"\n",
    "admin_route = room_body[\"links\"][\"admin_panel\"]\n"
   ],
   "metadata": {
    "collapsed": false
   }
  },
  {
   "cell_type": "code",
   "execution_count": 58,
   "outputs": [
    {
     "name": "stdout",
     "output_type": "stream",
     "text": [
      "'http://localhost:3001/api/v1/join/fs-info/wusel'\n",
      "{'links': {'queue_menu': '/api/v1/user/fs-info/queue_menu'},\n",
      " 'player': {'joined': 1684687972.137579,\n",
      "            'name': 'wusel',\n",
      "            'uuid': 'ace757d69c824eda82c6089c9bde3091'},\n",
      " 'room': {'history': [], 'name': 'fs-info', 'queue': []}}\n"
     ]
    }
   ],
   "source": [
    "\n",
    "user_sign_in_response = user_sign_in(room_name)\n",
    "user_cookie = user_sign_in_response.cookies.get(\"player_id\")\n",
    "print(user_sign_in_response.json())\n"
   ],
   "metadata": {
    "collapsed": false
   }
  },
  {
   "cell_type": "code",
   "execution_count": 59,
   "outputs": [
    {
     "name": "stdout",
     "output_type": "stream",
     "text": [
      "{'links': {'queue_menu': '/api/v1/user/fs-info/queue_menu'},\n",
      " 'room': {'history': [],\n",
      "          'name': 'fs-info',\n",
      "          'queue': [{'player': {'joined': 1684687972.137579,\n",
      "                                'name': 'wusel',\n",
      "                                'uuid': 'ace757d69c824eda82c6089c9bde3091'},\n",
      "                     'song': {'artist': 'artist2',\n",
      "                              'duration': 4.0,\n",
      "                              'title': 'title2'},\n",
      "                     'time_of_entry': 1684687972.138815}]}}\n"
     ]
    }
   ],
   "source": [
    "queue_song_response = request_queue_song(room_name, 2, user_cookie)\n",
    "# queue_song_response = request_queue_song(room_uuid, 2, user_cookie)\n",
    "print(queue_song_response.json())"
   ],
   "metadata": {
    "collapsed": false
   }
  },
  {
   "cell_type": "code",
   "execution_count": 60,
   "outputs": [
    {
     "name": "stdout",
     "output_type": "stream",
     "text": [
      "{'links': {},\n",
      " 'next': {'player': {'joined': 1684687972.137579,\n",
      "                     'name': 'wusel',\n",
      "                     'uuid': 'ace757d69c824eda82c6089c9bde3091'},\n",
      "          'song': {'artist': 'artist2', 'duration': 4.0, 'title': 'title2'},\n",
      "          'time_of_entry': 1684687972.138815},\n",
      " 'session': {'history': [{'player': {'joined': 1684687972.137579,\n",
      "                                     'name': 'wusel',\n",
      "                                     'uuid': 'ace757d69c824eda82c6089c9bde3091'},\n",
      "                          'song': {'artist': 'artist2',\n",
      "                                   'duration': 4.0,\n",
      "                                   'title': 'title2'},\n",
      "                          'time_of_entry': 1684687972.138815}],\n",
      "             'name': 'fs-info',\n",
      "             'queue': [],\n",
      "             'uuid': '51154050f3f54889b6238ff66b611403'}}\n"
     ]
    }
   ],
   "source": [
    "next_song_response = request_next_song(admin_route, room_name)\n",
    "print(next_song_response.json())"
   ],
   "metadata": {
    "collapsed": false
   }
  },
  {
   "cell_type": "code",
   "execution_count": 67,
   "outputs": [
    {
     "name": "stdout",
     "output_type": "stream",
     "text": [
      "{'links': {}, 'songs': [['title2', 91], ['title1', 91]]}\n"
     ]
    }
   ],
   "source": [
    "song_search_response = search_song(\"title\")\n",
    "print(song_search_response.json())"
   ],
   "metadata": {
    "collapsed": false
   }
  },
  {
   "cell_type": "code",
   "execution_count": null,
   "outputs": [],
   "source": [],
   "metadata": {
    "collapsed": false
   }
  }
 ],
 "metadata": {
  "kernelspec": {
   "display_name": "Python 3",
   "language": "python",
   "name": "python3"
  },
  "language_info": {
   "codemirror_mode": {
    "name": "ipython",
    "version": 2
   },
   "file_extension": ".py",
   "mimetype": "text/x-python",
   "name": "python",
   "nbconvert_exporter": "python",
   "pygments_lexer": "ipython2",
   "version": "2.7.6"
  }
 },
 "nbformat": 4,
 "nbformat_minor": 0
}
